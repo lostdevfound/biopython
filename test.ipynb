{
 "cells": [
  {
   "cell_type": "markdown",
   "metadata": {},
   "source": [
    "# Defind a generic nucleotide sequence"
   ]
  },
  {
   "cell_type": "code",
   "execution_count": 1,
   "metadata": {},
   "outputs": [],
   "source": [
    "from Bio.Seq import Seq\n",
    "from Bio import SeqIO\n",
    "from Bio.SeqRecord import SeqRecord\n",
    "from Bio.Alphabet import generic_dna\n",
    "from Bio.Alphabet.IUPAC import IUPACAmbiguousDNA\n",
    "gene = Seq(\"GTGAAAAAGATGCAATCTATCGTACTCGCACTTTCCCTGGTTCTGGTCGCTCCCATGGCA\" + \\\n",
    "           \"GCACAGGCTGCGGAAATTACGTTAGTCCCGTCAGTAAAATTACAGATAGGCGATCGTGAT\" + \\\n",
    "           \"AATCGTGGCTATTACTGGGATGGAGGTCACTGGCGCGACCACGGCTGGTGGAAACAACAT\" + \\\n",
    "           \"TATGAATGGCGAGGCAATCGCTGGCACCTACACGGACCGCCGCCACCGCCGCGCCACCAT\" + \\\n",
    "            \"AAGAAAGCTCCTCATGATCATCACGGCGGTCATGGTCCAGGCAAACATCACCGCTAA\", generic_dna)"
   ]
  },
  {
   "cell_type": "markdown",
   "metadata": {},
   "source": [
    "# Translate generic DNA sequence to protein sequence"
   ]
  },
  {
   "cell_type": "code",
   "execution_count": 34,
   "metadata": {},
   "outputs": [
    {
     "data": {
      "text/plain": [
       "Seq('MKKMQSIVLALSLVLVAPMAAQAAEITLVPSVKLQIGDRDNRGYYWDGGHWRDH...HHR', ExtendedIUPACProtein())"
      ]
     },
     "execution_count": 34,
     "metadata": {},
     "output_type": "execute_result"
    }
   ],
   "source": [
    "protein_seq = gene.translate(table='Bacterial', to_stop=True,cds=True)   # translate the sequence\n",
    "protein_seq"
   ]
  },
  {
   "cell_type": "markdown",
   "metadata": {},
   "source": [
    "# Get GenBank translation tables (codon to protein)"
   ]
  },
  {
   "cell_type": "code",
   "execution_count": 3,
   "metadata": {
    "scrolled": true
   },
   "outputs": [
    {
     "name": "stdout",
     "output_type": "stream",
     "text": [
      "Table 1 Standard, SGC0\n",
      "\n",
      "  |  T      |  C      |  A      |  G      |\n",
      "--+---------+---------+---------+---------+--\n",
      "T | TTT F   | TCT S   | TAT Y   | TGT C   | T\n",
      "T | TTC F   | TCC S   | TAC Y   | TGC C   | C\n",
      "T | TTA L   | TCA S   | TAA Stop| TGA Stop| A\n",
      "T | TTG L(s)| TCG S   | TAG Stop| TGG W   | G\n",
      "--+---------+---------+---------+---------+--\n",
      "C | CTT L   | CCT P   | CAT H   | CGT R   | T\n",
      "C | CTC L   | CCC P   | CAC H   | CGC R   | C\n",
      "C | CTA L   | CCA P   | CAA Q   | CGA R   | A\n",
      "C | CTG L(s)| CCG P   | CAG Q   | CGG R   | G\n",
      "--+---------+---------+---------+---------+--\n",
      "A | ATT I   | ACT T   | AAT N   | AGT S   | T\n",
      "A | ATC I   | ACC T   | AAC N   | AGC S   | C\n",
      "A | ATA I   | ACA T   | AAA K   | AGA R   | A\n",
      "A | ATG M(s)| ACG T   | AAG K   | AGG R   | G\n",
      "--+---------+---------+---------+---------+--\n",
      "G | GTT V   | GCT A   | GAT D   | GGT G   | T\n",
      "G | GTC V   | GCC A   | GAC D   | GGC G   | C\n",
      "G | GTA V   | GCA A   | GAA E   | GGA G   | A\n",
      "G | GTG V   | GCG A   | GAG E   | GGG G   | G\n",
      "--+---------+---------+---------+---------+-- \n",
      " \n",
      "\n",
      "Table 2 Vertebrate Mitochondrial, SGC1\n",
      "\n",
      "  |  T      |  C      |  A      |  G      |\n",
      "--+---------+---------+---------+---------+--\n",
      "T | TTT F   | TCT S   | TAT Y   | TGT C   | T\n",
      "T | TTC F   | TCC S   | TAC Y   | TGC C   | C\n",
      "T | TTA L   | TCA S   | TAA Stop| TGA W   | A\n",
      "T | TTG L   | TCG S   | TAG Stop| TGG W   | G\n",
      "--+---------+---------+---------+---------+--\n",
      "C | CTT L   | CCT P   | CAT H   | CGT R   | T\n",
      "C | CTC L   | CCC P   | CAC H   | CGC R   | C\n",
      "C | CTA L   | CCA P   | CAA Q   | CGA R   | A\n",
      "C | CTG L   | CCG P   | CAG Q   | CGG R   | G\n",
      "--+---------+---------+---------+---------+--\n",
      "A | ATT I(s)| ACT T   | AAT N   | AGT S   | T\n",
      "A | ATC I(s)| ACC T   | AAC N   | AGC S   | C\n",
      "A | ATA M(s)| ACA T   | AAA K   | AGA Stop| A\n",
      "A | ATG M(s)| ACG T   | AAG K   | AGG Stop| G\n",
      "--+---------+---------+---------+---------+--\n",
      "G | GTT V   | GCT A   | GAT D   | GGT G   | T\n",
      "G | GTC V   | GCC A   | GAC D   | GGC G   | C\n",
      "G | GTA V   | GCA A   | GAA E   | GGA G   | A\n",
      "G | GTG V(s)| GCG A   | GAG E   | GGG G   | G\n",
      "--+---------+---------+---------+---------+--\n"
     ]
    }
   ],
   "source": [
    "from Bio.Data import CodonTable\n",
    "std_table = CodonTable.unambiguous_dna_by_name[\"Standard\"]\n",
    "mito_table = CodonTable.unambiguous_dna_by_name[\"Vertebrate Mitochondrial\"]\n",
    "#std_table = CodonTable.unambiguous_dna_by_name[1]  Standard\n",
    "#mito_table = CodonTable.unambiguous_dna_by_name[2]   Vertebrate Mitochondrial\n",
    "print(std_table, \"\\n\",\"\\n\")\n",
    "print(mito_table)"
   ]
  },
  {
   "cell_type": "markdown",
   "metadata": {},
   "source": [
    "# Record Annotations"
   ]
  },
  {
   "cell_type": "code",
   "execution_count": 35,
   "metadata": {},
   "outputs": [
    {
     "name": "stdout",
     "output_type": "stream",
     "text": [
      "ID: ABC123\n",
      "Name: hello\n",
      "Description: <unknown description>\n",
      "Number of features: 0\n",
      "/evidence=Space\n",
      "/Pi=3.14\n",
      "/isTrue=Is not falsly true\n",
      "Seq('GATC', Alphabet())\n"
     ]
    }
   ],
   "source": [
    "simpleSeq = Seq(\"GATC\")   # inita generic DNA seq\n",
    "simpleSeqRecord = SeqRecord(simpleSeq, id=\"ABC123\", name=\"hello\")   # init record and set a sequence\n",
    "simpleSeqRecord.annotations = {\"evidence\": \"Space\", \"isTrue\": \"Is not falsly true\"}   # add annot\n",
    "simpleSeqRecord.annotations[\"Pi\"] = \"3.14\"\n",
    "print(simpleSeqRecord)"
   ]
  },
  {
   "cell_type": "markdown",
   "metadata": {},
   "source": [
    "# Parse single record genBank file from NCBI"
   ]
  },
  {
   "cell_type": "code",
   "execution_count": 5,
   "metadata": {
    "collapsed": true
   },
   "outputs": [],
   "source": [
    "record = SeqIO.read(\"data/NC_005816.gb\", \"genbank\")   # read the gb file"
   ]
  },
  {
   "cell_type": "code",
   "execution_count": 6,
   "metadata": {},
   "outputs": [
    {
     "name": "stdout",
     "output_type": "stream",
     "text": [
      "ID: NC_005816.1\n",
      "Name: NC_005816\n",
      "Description: Yersinia pestis biovar Microtus str. 91001 plasmid pPCP1, complete sequence\n",
      "Database cross-references: Project:58037\n",
      "Number of features: 41\n",
      "/taxonomy=['Bacteria', 'Proteobacteria', 'Gammaproteobacteria', 'Enterobacteriales', 'Enterobacteriaceae', 'Yersinia']\n",
      "/date=21-JUL-2008\n",
      "/references=[Reference(title='Genetics of metabolic variations between Yersinia pestis biovars and the proposal of a new biovar, microtus', ...), Reference(title='Complete genome sequence of Yersinia pestis strain 91001, an isolate avirulent to humans', ...), Reference(title='Direct Submission', ...), Reference(title='Direct Submission', ...)]\n",
      "/accessions=['NC_005816']\n",
      "/sequence_version=1\n",
      "/data_file_division=BCT\n",
      "/keywords=['']\n",
      "/molecule_type=DNA\n",
      "/source=Yersinia pestis biovar Microtus str. 91001\n",
      "/gi=45478711\n",
      "/organism=Yersinia pestis biovar Microtus str. 91001\n",
      "/topology=circular\n",
      "/comment=PROVISIONAL REFSEQ: This record has not yet been subject to final\n",
      "NCBI review. The reference sequence was derived from AE017046.\n",
      "COMPLETENESS: full length.\n",
      "Seq('TGTAACGAACGGTGCAATAGTGATCCACACCCAACGCCTGAAATCAGATCCAGG...CTG', IUPACAmbiguousDNA())\n"
     ]
    }
   ],
   "source": [
    "print(record)  # look at the record data"
   ]
  },
  {
   "cell_type": "markdown",
   "metadata": {},
   "source": [
    "# Display all the features of the genBank record"
   ]
  },
  {
   "cell_type": "code",
   "execution_count": 7,
   "metadata": {
    "scrolled": true
   },
   "outputs": [
    {
     "data": {
      "text/plain": [
       "[SeqFeature(FeatureLocation(ExactPosition(0), ExactPosition(9609), strand=1), type='source'),\n",
       " SeqFeature(FeatureLocation(ExactPosition(0), ExactPosition(1954), strand=1), type='repeat_region'),\n",
       " SeqFeature(FeatureLocation(ExactPosition(86), ExactPosition(1109), strand=1), type='gene'),\n",
       " SeqFeature(FeatureLocation(ExactPosition(86), ExactPosition(1109), strand=1), type='CDS'),\n",
       " SeqFeature(FeatureLocation(ExactPosition(86), ExactPosition(959), strand=1), type='misc_feature'),\n",
       " SeqFeature(FeatureLocation(BeforePosition(110), ExactPosition(209), strand=1), type='misc_feature'),\n",
       " SeqFeature(FeatureLocation(ExactPosition(437), ExactPosition(812), strand=1), type='misc_feature'),\n",
       " SeqFeature(FeatureLocation(ExactPosition(1105), ExactPosition(1888), strand=1), type='gene'),\n",
       " SeqFeature(FeatureLocation(ExactPosition(1105), ExactPosition(1888), strand=1), type='CDS'),\n",
       " SeqFeature(FeatureLocation(ExactPosition(1108), ExactPosition(1885), strand=1), type='misc_feature'),\n",
       " SeqFeature(FeatureLocation(ExactPosition(1366), AfterPosition(1669), strand=1), type='misc_feature'),\n",
       " SeqFeature(FeatureLocation(ExactPosition(1432), ExactPosition(1456), strand=1), type='misc_feature'),\n",
       " SeqFeature(CompoundLocation([FeatureLocation(ExactPosition(1435), ExactPosition(1459), strand=1), FeatureLocation(ExactPosition(1618), ExactPosition(1621), strand=1)], 'order'), type='misc_feature', location_operator='order'),\n",
       " SeqFeature(FeatureLocation(ExactPosition(1606), ExactPosition(1624), strand=1), type='misc_feature'),\n",
       " SeqFeature(FeatureLocation(ExactPosition(2924), ExactPosition(3119), strand=1), type='gene'),\n",
       " SeqFeature(FeatureLocation(ExactPosition(2924), ExactPosition(3119), strand=1), type='CDS'),\n",
       " SeqFeature(FeatureLocation(ExactPosition(2924), ExactPosition(3107), strand=1), type='misc_feature'),\n",
       " SeqFeature(FeatureLocation(ExactPosition(3485), ExactPosition(3857), strand=1), type='gene'),\n",
       " SeqFeature(FeatureLocation(ExactPosition(3485), ExactPosition(3857), strand=1), type='CDS'),\n",
       " SeqFeature(FeatureLocation(ExactPosition(3497), ExactPosition(3626), strand=1), type='misc_feature'),\n",
       " SeqFeature(FeatureLocation(ExactPosition(4342), ExactPosition(4780), strand=1), type='gene'),\n",
       " SeqFeature(FeatureLocation(ExactPosition(4342), ExactPosition(4780), strand=1), type='CDS'),\n",
       " SeqFeature(FeatureLocation(ExactPosition(4814), ExactPosition(5888), strand=-1), type='gene'),\n",
       " SeqFeature(FeatureLocation(ExactPosition(4814), ExactPosition(5888), strand=-1), type='CDS'),\n",
       " SeqFeature(FeatureLocation(ExactPosition(5909), ExactPosition(5911), strand=1), type='variation'),\n",
       " SeqFeature(FeatureLocation(ExactPosition(5933), ExactPosition(5933), strand=1), type='variation'),\n",
       " SeqFeature(FeatureLocation(ExactPosition(5933), ExactPosition(5933), strand=1), type='variation'),\n",
       " SeqFeature(FeatureLocation(ExactPosition(5947), ExactPosition(5948), strand=1), type='variation'),\n",
       " SeqFeature(FeatureLocation(ExactPosition(6004), ExactPosition(6421), strand=1), type='gene'),\n",
       " SeqFeature(FeatureLocation(ExactPosition(6004), ExactPosition(6421), strand=1), type='CDS'),\n",
       " SeqFeature(FeatureLocation(ExactPosition(6524), ExactPosition(6525), strand=1), type='variation'),\n",
       " SeqFeature(FeatureLocation(ExactPosition(6663), ExactPosition(7602), strand=1), type='gene'),\n",
       " SeqFeature(FeatureLocation(ExactPosition(6663), ExactPosition(7602), strand=1), type='CDS'),\n",
       " SeqFeature(FeatureLocation(ExactPosition(6663), ExactPosition(7599), strand=1), type='misc_feature'),\n",
       " SeqFeature(FeatureLocation(ExactPosition(7788), ExactPosition(8088), strand=-1), type='gene'),\n",
       " SeqFeature(FeatureLocation(ExactPosition(7788), ExactPosition(8088), strand=-1), type='CDS'),\n",
       " SeqFeature(FeatureLocation(ExactPosition(7836), ExactPosition(7995), strand=-1), type='misc_feature'),\n",
       " SeqFeature(FeatureLocation(ExactPosition(8087), ExactPosition(8360), strand=-1), type='gene'),\n",
       " SeqFeature(FeatureLocation(ExactPosition(8087), ExactPosition(8360), strand=-1), type='CDS'),\n",
       " SeqFeature(FeatureLocation(ExactPosition(8090), AfterPosition(8357), strand=-1), type='misc_feature'),\n",
       " SeqFeature(FeatureLocation(ExactPosition(8529), ExactPosition(8529), strand=1), type='variation')]"
      ]
     },
     "execution_count": 7,
     "metadata": {},
     "output_type": "execute_result"
    }
   ],
   "source": [
    "record.features   # display all the features asscociated with the sequence"
   ]
  },
  {
   "cell_type": "markdown",
   "metadata": {},
   "source": [
    "# Extract and concatenate all CDS using features into a new seq"
   ]
  },
  {
   "cell_type": "code",
   "execution_count": 8,
   "metadata": {},
   "outputs": [
    {
     "data": {
      "text/plain": [
       "Seq('ATGGTCACTTTTGAGACAGTTATGGAAATTAAAATCCTGCACAAGCAGGGAATG...TAA', IUPACAmbiguousDNA())"
      ]
     },
     "execution_count": 8,
     "metadata": {},
     "output_type": "execute_result"
    }
   ],
   "source": [
    "codingSeq = Seq('',IUPACAmbiguousDNA())\n",
    "for feature in record.features:\n",
    "    if feature.type == \"CDS\":\n",
    "        codingSeq = codingSeq + feature.extract(record.seq)\n",
    "codingSeq"
   ]
  },
  {
   "cell_type": "markdown",
   "metadata": {},
   "source": [
    "# Sequence alignment using ClustalW"
   ]
  },
  {
   "cell_type": "code",
   "execution_count": 32,
   "metadata": {},
   "outputs": [
    {
     "name": "stdout",
     "output_type": "stream",
     "text": [
      "CLUSTAL 2.1 multiple sequence alignment\n",
      "\n",
      "\n",
      "gi|6273285|gb|AF191659.1|AF191      TATACATTAAAGAAGGGGGATGCGGATAAATGGAAAGGCGAAAGAAAGAA\n",
      "gi|6273284|gb|AF191658.1|AF191      TATACATTAAAGAAGGGGGATGCGGATAAATGGAAAGGCGAAAGAAAGAA\n",
      "gi|6273287|gb|AF191661.1|AF191      TATACATTAAAGAAGGGGGATGCGGATAAATGGAAAGGCGAAAGAAAGAA\n",
      "gi|6273286|gb|AF191660.1|AF191      TATACATAAAAGAAGGGGGATGCGGATAAATGGAAAGGCGAAAGAAAGAA\n",
      "gi|6273290|gb|AF191664.1|AF191      TATACATTAAAGGAGGGGGATGCGGATAAATGGAAAGGCGAAAGAAAGAA\n",
      "gi|6273289|gb|AF191663.1|AF191      TATACATTAAAGGAGGGGGATGCGGATAAATGGAAAGGCGAAAGAAAGAA\n",
      "gi|6273291|gb|AF191665.1|AF191      TATACATTAAAGGAGGGGGATGCGGATAAATGGAAAGGCGAAAGAAAGAA\n",
      "                                    ******* **** *************************************\n",
      "\n",
      "gi|6273285|gb|AF191659.1|AF191      AAAAATGAATCTAAATGATATACGATTCCACTATGTAAGGTCTTTGAATC\n",
      "gi|6273284|gb|AF191658.1|AF191      AAAAATGAATCTAAATGATATACGATTCCACTATGTAAGGTCTTTGAATC\n",
      "gi|6273287|gb|AF191661.1|AF191      AAAAATGAATCTAAATGATATACGATTCCACTATGTAAGGTCTTTGAATC\n",
      "gi|6273286|gb|AF191660.1|AF191      AAAAATGAATCTAAATGATATACGATTCCACTATGTAAGGTCTTTGAATC\n",
      "gi|6273290|gb|AF191664.1|AF191      AAAAATGAATCTAAATGATATAGGATTCCACTATGTAAGGTCTTTGAATC\n",
      "gi|6273289|gb|AF191663.1|AF191      AAAAATGAATCTAAATGATATAGGATTCCACTATGTAAGGTCTTTGAATC\n",
      "gi|6273291|gb|AF191665.1|AF191      AAAAATGAATCTAAATGATATAGGATTCCACTATGTAAGGTCTTTGAATC\n",
      "                                    ********************** ***************************\n",
      "\n",
      "gi|6273285|gb|AF191659.1|AF191      ATATCATAAAAGACAATGTAATAAAGCATGAATACAGATTCACACATAAT\n",
      "gi|6273284|gb|AF191658.1|AF191      ATATCATAAAAGACAATGTAATAAAGCATGAATACAGATTCACACATAAT\n",
      "gi|6273287|gb|AF191661.1|AF191      ATATCATAAAAGACAATGTAATAAAGCATGAATACAGATTCACACATAAT\n",
      "gi|6273286|gb|AF191660.1|AF191      ATATCATAAAAGACAATGTAATAAAGCATGAATACAGATTCACACATAAT\n",
      "gi|6273290|gb|AF191664.1|AF191      ATATCATAAAAGACAATGTAATAAAGCATGAATACAGATTCACACATAAT\n",
      "gi|6273289|gb|AF191663.1|AF191      ATATCATAAAAGACAATGTAATAAAGCATGAATACAGATTCACACATAAT\n",
      "gi|6273291|gb|AF191665.1|AF191      ATATCATAAAAGACAATGTAATAAAGCATGAATACAGATTCACACATAAT\n",
      "                                    **************************************************\n",
      "\n",
      "gi|6273285|gb|AF191659.1|AF191      TATCTGATATGAATCTATTCATAGAAAAAAGAAAAAAGTAAGAGCCTCCG\n",
      "gi|6273284|gb|AF191658.1|AF191      TATCTGATATGAATCTATTCATAGAAAAAAGAAAAAAGTAAGAGCCTCCG\n",
      "gi|6273287|gb|AF191661.1|AF191      TATCTGATATGAATCTATTCATAGAAAAAAGAAAAAAGTAAGAGCCTCCG\n",
      "gi|6273286|gb|AF191660.1|AF191      TATCTGATATGAATCTATTCATAGAAAAAAGAAAAAAGTAAGAGCCTCCG\n",
      "gi|6273290|gb|AF191664.1|AF191      TATCTGATATGAATCTATTCATAGAAAAAAGAAAAAAGTAAGAGCCTCCG\n",
      "gi|6273289|gb|AF191663.1|AF191      TATCTGATATGAATCTATTCATAGAAAAAAGAAAAAAGTAAGAGCCTCCG\n",
      "gi|6273291|gb|AF191665.1|AF191      TATCTGATATGAATCTATTCATAGAAAAAAGAAAAAAGTAAGAGCCTCCG\n",
      "                                    **************************************************\n",
      "\n",
      "gi|6273285|gb|AF191659.1|AF191      GCCAATAAAGACTAAGAGGGTTGGCTCAAGAACAAAGTTCATTAAGAGCT\n",
      "gi|6273284|gb|AF191658.1|AF191      GCCAATAAAGACTAAGAGGGTTGGCTCAAGAACAAAGTTCATTAAGAGCT\n",
      "gi|6273287|gb|AF191661.1|AF191      GCCAATAAAGACTAAGAGGGTTGGCTCAAGAACAAAGTTCATTAAGAGCT\n",
      "gi|6273286|gb|AF191660.1|AF191      GCCAATAAAGACTAAGAGGGTTGGCTCAAGAACAAAGTTCATTAAGAGCT\n",
      "gi|6273290|gb|AF191664.1|AF191      GCCAATAAAGACTAAGAGGGTTGGCTCAAGAACAAAGTTCATTAAGAGCT\n",
      "gi|6273289|gb|AF191663.1|AF191      GCCAATAAAGACTAAGAGGGTTGGCTCAAGAACAAAGTTCATTAAGAGCT\n",
      "gi|6273291|gb|AF191665.1|AF191      GCCAATAAAGACTAAGAGGGTTGGCTCAAGAACAAAGTTCATTAAGAGCT\n",
      "                                    **************************************************\n",
      "\n",
      "gi|6273285|gb|AF191659.1|AF191      CCATTGTAGAATTCAGACCTAATCATTAATCAAGAAGCGATGGGAACGAT\n",
      "gi|6273284|gb|AF191658.1|AF191      CCATTGTAGAATTCAGACCTAATCATTAATCAAGAAGCGATGGGAACGAT\n",
      "gi|6273287|gb|AF191661.1|AF191      CCATTGTAGAATTCAGACCTAATCATTAATCAAGAAGCGATGGGAACGAT\n",
      "gi|6273286|gb|AF191660.1|AF191      CCATTGTAGAATTCAGACCTAATCATTAATCAAGAAGCGATGGGAACGAT\n",
      "gi|6273290|gb|AF191664.1|AF191      CCATTGTAGAATTCAGACCTAATCATTAATCAAGAAGCGATGGGAACGAT\n",
      "gi|6273289|gb|AF191663.1|AF191      CCATTGTAGAATTCAGACCTAATCATTAATCAAGAAGCGATGGGAACGAT\n",
      "gi|6273291|gb|AF191665.1|AF191      CCATTGTAGAATTCAGACCTAATCATTAATCAAGAAGCGATGGGAACGAT\n",
      "                                    **************************************************\n",
      "\n",
      "gi|6273285|gb|AF191659.1|AF191      GTAATCCATGAATACAGAAGATTCAATTGAAAAAGATCCTAA-TGATCAT\n",
      "gi|6273284|gb|AF191658.1|AF191      GTAATCCATGAATACAGAAGATTCAATTGAAAAAGATCCTAA-TGATCAT\n",
      "gi|6273287|gb|AF191661.1|AF191      GTAATCCATGAATACAGAAGATTCAATTGAAAAAGATCCTAT-GATCCAT\n",
      "gi|6273286|gb|AF191660.1|AF191      GTAATCCATGAATACAGAAGATTCAATTGAAAAAGATCCTAA-TGATCAT\n",
      "gi|6273290|gb|AF191664.1|AF191      GTAATCCATGAATACAGAAGATTCAATTGAAAAAGATCCTAATGNTNCAT\n",
      "gi|6273289|gb|AF191663.1|AF191      GTAATCCATGAATACAGAAGATTCAATTGAAAAAGATCCTAATGATTCAT\n",
      "gi|6273291|gb|AF191665.1|AF191      GTAATCCATGAATACAGAAGATTCAATTGAAAAAGATCCTA--TGNTCAT\n",
      "                                    *****************************************      ***\n",
      "\n",
      "gi|6273285|gb|AF191659.1|AF191      TGGGAAGGATGGCGGAACGAACCAGAGACCAATTCATCTATTCTGAAAAG\n",
      "gi|6273284|gb|AF191658.1|AF191      TGGGAAGGATGGCGGAACGAACCAGAGACCAATTCATCTATTCTGAAAAG\n",
      "gi|6273287|gb|AF191661.1|AF191      TGGGAAGGATGGCGGAACGAACCAGAGACCAATTCATCTATTCTGAAAAG\n",
      "gi|6273286|gb|AF191660.1|AF191      TGG-AAGGATGGCGGAACGAACCAGAGACCAATTCATCTATTCTGAAAAG\n",
      "gi|6273290|gb|AF191664.1|AF191      TGGGAAGGATGGCGGAACGAACCAGAGACCAATTCATCTATTCTGAAAAG\n",
      "gi|6273289|gb|AF191663.1|AF191      TGGGAAGGATGGCGGAACGAACCAGAGACCAATTCATCTATTCTGAAAAG\n",
      "gi|6273291|gb|AF191665.1|AF191      TGG-AAGGATGGCGGAACGAACCAGAGACCAATTCATCTATTCTGAAAAG\n",
      "                                    *** **********************************************\n",
      "\n",
      "gi|6273285|gb|AF191659.1|AF191      TGATAAACTAATCCTATAAAACTAAAATAGATATTGAAAGAGTAAATATT\n",
      "gi|6273284|gb|AF191658.1|AF191      TGATAAACTAATCCTATAAAACTAAAATAGATATTGAAAGAGTAAATATT\n",
      "gi|6273287|gb|AF191661.1|AF191      TGATAAACTAATCCTATAAAACTAAAATAGATATTGAAAGAGTAAATATT\n",
      "gi|6273286|gb|AF191660.1|AF191      TGATAAACTAATCCTATAAAACTAAAATAGATATTGAAAGAGTAAATATT\n",
      "gi|6273290|gb|AF191664.1|AF191      TGATAAACTAATCCTATAAAACTAAAATAGATATTGAAAGAGTAAATATT\n",
      "gi|6273289|gb|AF191663.1|AF191      TGATAAACTAATCCTATAAAACTAAAATAGATATTGAAAGAGTAAATATT\n",
      "gi|6273291|gb|AF191665.1|AF191      TGATAAACTAATCCTATAAAACTAAAATAGATATTGAAAGAGTAAATATT\n",
      "                                    **************************************************\n",
      "\n",
      "gi|6273285|gb|AF191659.1|AF191      CGCCCGCGAAAATTCCTTTTTTATT-AAATTGCTCATATTTTATTTTAGC\n",
      "gi|6273284|gb|AF191658.1|AF191      CGCCCGCGAAAATTCCTTTTTTATT-AAATTGCTCATATTTTATTTTAGC\n",
      "gi|6273287|gb|AF191661.1|AF191      CGCCCGCGAAAATTCCTTTTTTTTTTAAATTGCTCATATTTTATTTTAGC\n",
      "gi|6273286|gb|AF191660.1|AF191      CGCCCGCGAAAATTCCTTTTTTATT-AAATTGCTCATATTTTATTTTAGC\n",
      "gi|6273290|gb|AF191664.1|AF191      CGCCCGCGAAAATTCCTTTTTTATT-AAATTGCTCATATTTTCTTTTAGC\n",
      "gi|6273289|gb|AF191663.1|AF191      CGCCCGCGAAAATTCCTTTTTTATT-AAATTGCTCATATTTTCTTTTAGC\n",
      "gi|6273291|gb|AF191665.1|AF191      CGCCCGCGAAAATTCCTTTTTTATT-AAATTGCTCATATTTTCTTTTAGC\n",
      "                                    ********************** ** **************** *******\n",
      "\n",
      "gi|6273285|gb|AF191659.1|AF191      AATGCAATCTAATAAAATATATCTATACAAAAAAATATAGACAAACTATA\n",
      "gi|6273284|gb|AF191658.1|AF191      AATGCAATCTAATAAAATATATCTATACAAAAAAATATAGACAAACTATA\n",
      "gi|6273287|gb|AF191661.1|AF191      AATGCAATCTAATAAAATATATCTATACAAAAAAATAAAGACAAACTATA\n",
      "gi|6273286|gb|AF191660.1|AF191      AATGCAATCTAATAAAATATATCTATACAAAAAAATATAGACAAACTATA\n",
      "gi|6273290|gb|AF191664.1|AF191      AATGCAATCTAATAAAATATATCTATACAAAAAAACATAGACAAACTATA\n",
      "gi|6273289|gb|AF191663.1|AF191      AATGCAATCTAATAAAATATATCTATACAAAAAAACATAGACAAACTATA\n",
      "gi|6273291|gb|AF191665.1|AF191      AATGCAATCTAATAAAATATATCTATACAAAAAAACATAGACAAACTATA\n",
      "                                    *********************************** * ************\n",
      "\n",
      "gi|6273285|gb|AF191659.1|AF191      TATATA----------ATATATTTCAAATTTCCTTATATACCCAAATATA\n",
      "gi|6273284|gb|AF191658.1|AF191      TATATATA--------ATATATTTCAAATTTCCTTATATACCCAAATATA\n",
      "gi|6273287|gb|AF191661.1|AF191      TATATA----------ATATATTTCAAATTTCCTTATATATCCAAATATA\n",
      "gi|6273286|gb|AF191660.1|AF191      TATATA----------ATATATTTATAATTTCCTTATATATCCAAATATA\n",
      "gi|6273290|gb|AF191664.1|AF191      TATATATATA------ATATATTTCAAATTCCCTTATATATCCAAATATA\n",
      "gi|6273289|gb|AF191663.1|AF191      TATATATATA------ATATATTTCAAATTCCCTTATATATCCAAATATA\n",
      "gi|6273291|gb|AF191665.1|AF191      TATATATATATATATAATATATTTCAAATTCCCTTATATATCCAAATATA\n",
      "                                    ******          ********  **** ********* *********\n",
      "\n",
      "gi|6273285|gb|AF191659.1|AF191      AAAATATCTAATAAATTAGATGAATATCAAAGAATCCATTGATTTAGTGT\n",
      "gi|6273284|gb|AF191658.1|AF191      AAAATATCTAATAAATTAGATGAATATCAAAGAATCTATTGATTTAGTGT\n",
      "gi|6273287|gb|AF191661.1|AF191      AAAATATCTAATAAATTAGATGAATATCAAAGAATCTATTGATTTAGTGT\n",
      "gi|6273286|gb|AF191660.1|AF191      AAAATATCTAATAAATTAGATGAATATCAAAGAATCTATTGATTTAGTGT\n",
      "gi|6273290|gb|AF191664.1|AF191      AAAATATCTAATAAATTAGATGAATATCAAAGAATCTATTGATTTAGTGT\n",
      "gi|6273289|gb|AF191663.1|AF191      AAAATATCTAATAAATTAGATGAATATCAAAGAATCTATTGATTTAGTAT\n",
      "gi|6273291|gb|AF191665.1|AF191      AAAATATCTAATAAATTAGATGAATATCAAAGAATCTATTGATTTAGTGT\n",
      "                                    ************************************ *********** *\n",
      "\n",
      "gi|6273285|gb|AF191659.1|AF191      ATTATTAAATGTATATCTTAATTCAATATTATTATTCTATTCATTTTTAT\n",
      "gi|6273284|gb|AF191658.1|AF191      ATTATTAAATGTATATCTTAATTCAATATTATTATTCTATTCATTTTTAT\n",
      "gi|6273287|gb|AF191661.1|AF191      ATTATTAAATGTATATCTTAATTCAATATTATTATTCTATTCATTTTTAT\n",
      "gi|6273286|gb|AF191660.1|AF191      ATTATTAAATGTATATCTTAATTCAATATTATTATTCTATTCATTTTTAT\n",
      "gi|6273290|gb|AF191664.1|AF191      ATTATTAAATGTATATATTAATTCAATATTATTATTCTATTCATTTTTAT\n",
      "gi|6273289|gb|AF191663.1|AF191      ATTATTAAATGTATATATTAATTCAATATTATTATTCTATTCATTTTTAT\n",
      "gi|6273291|gb|AF191665.1|AF191      ATTATTAAATGTATATATTAATTCAATATTATTATTCTATTCATTTTTAT\n",
      "                                    **************** *********************************\n",
      "\n",
      "gi|6273285|gb|AF191659.1|AF191      TCATTTTCAAATTTATAATATATTAATCTATATATTAATTTATAATTCTA\n",
      "gi|6273284|gb|AF191658.1|AF191      TCATTTTCAAATTTATAATATATTAATCTATATATTAATTTATAATTCTA\n",
      "gi|6273287|gb|AF191661.1|AF191      TCATTTTCAATTTTATAATATATTAATCTATATATTAATTTATAATTCTA\n",
      "gi|6273286|gb|AF191660.1|AF191      TCATTTTCAAATTTATAATATATTAATCTATATATTAATTTATAATTCTA\n",
      "gi|6273290|gb|AF191664.1|AF191      TCATTTTCAAATTTATAATATATTAATCTATATATTAATTTAGAATTCTA\n",
      "gi|6273289|gb|AF191663.1|AF191      TCATTTTCAAATTTATAATATATTAATCTATATATTAATTTAGAATTCTA\n",
      "gi|6273291|gb|AF191665.1|AF191      TCATTTTCAAATTTATAATATATTAATCTATATATTAATTTAGAATTCTA\n",
      "                                    ********** ******************************* *******\n",
      "\n",
      "gi|6273285|gb|AF191659.1|AF191      TTCTAATTCGAATTCAATTTTTAAATATTCATATTCAATTAAAATTGAAA\n",
      "gi|6273284|gb|AF191658.1|AF191      TTCTAATTCGAATTCAATTTTTAAATATTCATATTCAATTAAAATTGAAA\n",
      "gi|6273287|gb|AF191661.1|AF191      TTCTAATTCGAATTCAATTTTTAAATATTCATATTCAATTAAAATTGAAA\n",
      "gi|6273286|gb|AF191660.1|AF191      TTCTAATTCGAATTCAATTTTTAAATATTCATATTCAATTAAAATTGAAA\n",
      "gi|6273290|gb|AF191664.1|AF191      TTCTAATTCGAATTCAATTTTTAAATATTCATATTCAATTAAAATTGAAA\n",
      "gi|6273289|gb|AF191663.1|AF191      TTCTAATTCGAATTCAATTTTTAAATATTCATATTCAATTAAAATTGAAA\n",
      "gi|6273291|gb|AF191665.1|AF191      TTCTAATTCGAATTCAATTTTTAAATATTCATATTCAATTAAAATTGAAA\n",
      "                                    **************************************************\n",
      "\n",
      "gi|6273285|gb|AF191659.1|AF191      TTTTTTCATTCGCGAGGAGCCGGATGAGAAGAAACTCTCATGTCCGGTTC\n",
      "gi|6273284|gb|AF191658.1|AF191      TTTTTTCATTCGCGAGGAGCCGGATGAGAAGAAACTCTCATGTCCGGTTC\n",
      "gi|6273287|gb|AF191661.1|AF191      TTTTTTCATTCGCGAGGAGCCGGATGAGAAGAAACTCTCATGTCCGGTTC\n",
      "gi|6273286|gb|AF191660.1|AF191      TTTTTTCATTCGCGAGGAGCCGGATGAGAAGAAACTCTCATGTCCGGTTC\n",
      "gi|6273290|gb|AF191664.1|AF191      TTTTTTCATTCGCGAGGAGCCGGATGAGAAGAAACTCTCATGTCCGGTTC\n",
      "gi|6273289|gb|AF191663.1|AF191      TTTTTTCATTCGCGAGGAGCCGGATGAGAAGAAACTCTCATGTCCGGTTC\n",
      "gi|6273291|gb|AF191665.1|AF191      TTTTTTCATTCGCGAGGAGCCGGATGAGAAGAAACTCTCATGTCCGGTTC\n",
      "                                    **************************************************\n",
      "\n",
      "gi|6273285|gb|AF191659.1|AF191      TGTAGTAGAGATGGAATTAAGAAAAAACCATCAACTATAACCCCAAGAGA\n",
      "gi|6273284|gb|AF191658.1|AF191      TGTAGTAGAGATGGAATTAAGAAAAAACCATCAACTATAACCCCAAGAGA\n",
      "gi|6273287|gb|AF191661.1|AF191      TGTAGTAGAGATGGAATTAAGAAAAAACCATCAACTATAACCCCAAGAGA\n",
      "gi|6273286|gb|AF191660.1|AF191      TGTAGTAGAGATGGAATTAAGAAAAAACCATCAACTATAACCCCAAGAGA\n",
      "gi|6273290|gb|AF191664.1|AF191      TGTAGTAGAGATGGAATTAAGAAAAAACCATCAACTATAACCCCAAAAGA\n",
      "gi|6273289|gb|AF191663.1|AF191      TGTAGTAGAGATGGAATTAAGAAAAAACCATCAACTATAACCCCAAAAGA\n",
      "gi|6273291|gb|AF191665.1|AF191      TGTAGTAGAGATGGAATTAAGAAAAAACCATCAACTATAACCCCAAAAGA\n",
      "                                    ********************************************** ***\n",
      "\n",
      "gi|6273285|gb|AF191659.1|AF191      ACCAGA\n",
      "gi|6273284|gb|AF191658.1|AF191      ACCAGA\n",
      "gi|6273287|gb|AF191661.1|AF191      ACCAGA\n",
      "gi|6273286|gb|AF191660.1|AF191      ACCAGA\n",
      "gi|6273290|gb|AF191664.1|AF191      ACCAGA\n",
      "gi|6273289|gb|AF191663.1|AF191      ACCAGA\n",
      "gi|6273291|gb|AF191665.1|AF191      ACCAGA\n",
      "                                    ******\n",
      "\n"
     ]
    }
   ],
   "source": [
    "from Bio.Align.Applications import ClustalwCommandline\n",
    "fastaFile = \"'data/opuntia.fasta'\"\n",
    "cmdline = ClustalwCommandline(\"clustalw\", infile=fastaFile) # create a cmd\n",
    "stdout, stderr = cmdline()    # execute cmd with python subprocess, output streams to vars\n",
    "with open(\"data/opuntia.aln\") as f:\n",
    "    print(f.read())"
   ]
  },
  {
   "cell_type": "markdown",
   "metadata": {},
   "source": [
    "# Sequence alignment using BWA"
   ]
  },
  {
   "cell_type": "code",
   "execution_count": 37,
   "metadata": {},
   "outputs": [
    {
     "name": "stdout",
     "output_type": "stream",
     "text": [
      "@SQ\tSN:gi|6273291|gb|AF191665.1|AF191665\tLN:902\n",
      "gi|6273299|gb|AF191665.1|AF191665\t0\tgi|6273291|gb|AF191665.1|AF191665\t395\t187\t114M\t*\t0\t0\tAAGTGATAAACTAATCCTATAAAACTAAAATAGATATTGAAAGAGTAAATATTCGCCCGCGAAAATTCCTTTTTTATTAAATTGCTCATATTTTCTTTTAGCAATGCAATCTAA\t*\tAS:i:114\tXS:i:0\tXF:i:3\tXE:i:3\tNM:i:0\n",
      "gi|6273298|gb|AF191665.1|AF191665\t0\tgi|6273291|gb|AF191665.1|AF191665\t95\t236\t15S130M4D139M7D134M\t*\t0\t0\tTAGGATTCCACTATGTGAATCATATCATAAAAGACAATGTAATAAAGCATGAATACAGATTCACACATAATTATCTGATATGAATCTATTCATAGAAAAAAGAAAAAAGTAAGAGCCTCCGGCCAATAAAGACTAAGAGGGTTGGGGGTCAAGGTTCATTAAGAGCTCCATTGTAGAATTCAGACCTAATCATTAATCAAGAAGCGATGGGAACGATGTAATCCATGAATACAGAAGATTCAATTGAAAAAGATCCTATGNTCATTGGAAGGATGGCGGAACGAACCAATTCATCTATTCTGAAAAGTGATAAACTAATCCTATAAAACTAAAATAGATATTGAAAGAGTAAATATTCGCCCGCGAAAATTCCTTTTTTATTAAATTGCTCATATTTTCTTTTAGCAATGCAATCTAA\t*\tAS:i:351\tXS:i:0\tXF:i:0\tXE:i:9\tNM:i:16\tXN:i:1\n",
      "\n",
      "sam file fields: 1 qname 2 flag 3 refname 4 position 5 mapQ  6 CIGAR\n"
     ]
    }
   ],
   "source": [
    "from Bio.Sequencing.Applications import BwaAlignCommandline, BwaIndexCommandline,BwaBwaswCommandline\n",
    "ref_file = \"data/opuntia_ref.fasta\"\n",
    "read_file = \"data/opuntia_reads.fasta\"\n",
    "index_cmd = BwaIndexCommandline(infile=ref_file, algorithm=\"bwtsw\")   # build the command\n",
    "index_cmd()   # run the command\n",
    "align_cmd = BwaBwaswCommandline(reference=ref_file, read_file=read_file)\n",
    "align_cmd(stdout=\"data/aln.sam\")   # run the command\n",
    "\n",
    "# read the output sam file\n",
    "with open(\"data/aln.sam\", 'r') as f:\n",
    "    print(f.read())\n",
    "\n",
    "# SAM file fields\n",
    "print(\"sam file fields:\", \"1 qname\", \"2 flag\", \"3 refname\", \"4 position\", \"5 mapQ \", \"6 CIGAR\" )"
   ]
  },
  {
   "cell_type": "code",
   "execution_count": null,
   "metadata": {
    "collapsed": true
   },
   "outputs": [],
   "source": []
  }
 ],
 "metadata": {
  "kernelspec": {
   "display_name": "Python 3",
   "language": "python",
   "name": "python3"
  },
  "language_info": {
   "codemirror_mode": {
    "name": "ipython",
    "version": 3
   },
   "file_extension": ".py",
   "mimetype": "text/x-python",
   "name": "python",
   "nbconvert_exporter": "python",
   "pygments_lexer": "ipython3",
   "version": "3.5.4"
  }
 },
 "nbformat": 4,
 "nbformat_minor": 2
}
